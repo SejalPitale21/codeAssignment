{
 "cells": [
  {
   "cell_type": "code",
   "execution_count": 1,
   "id": "598c81a4",
   "metadata": {},
   "outputs": [],
   "source": [
    "levelsDict = {}\n",
    "\n",
    "space = {}"
   ]
  },
  {
   "cell_type": "code",
   "execution_count": 2,
   "id": "b619c00a",
   "metadata": {},
   "outputs": [],
   "source": [
    "\n",
    "def parkingLotTracker(levelsDict, carNumber, park):\n",
    "    '''\n",
    "    It return level and spot for a vehicle if available\n",
    "    '''\n",
    "    try:\n",
    "        if park == 'Y':\n",
    "            for level in levelsDict:\n",
    "                if levelsDict[level]:\n",
    "                    if carNumber not in space:\n",
    "                        space[carNumber] = [level, levelsDict[level][0]]\n",
    "\n",
    "                        levelsDict[level].pop(0)\n",
    "\n",
    "                        return {\"level\" : level, \"slot\" :space[carNumber][1]}\n",
    "                    else:\n",
    "                        return \"Wrong number of vehicle.\"\n",
    "        elif park!='Y':\n",
    "            levelsDict[space[carNumber][0]].append(space[carNumber][1])\n",
    "            del space[carNumber]\n",
    "            return carNumber +\" removed from parking\"\n",
    "        return \"Parking is full!!\"\n",
    "    except Exception as e:\n",
    "        print (e)\n",
    "    \n",
    "    \n",
    "def assingSlots(level, rangeOfSlotsStart, rangeOfSlotsEnd):\n",
    "    '''\n",
    "    It will create a levels for given range\n",
    "    '''\n",
    "    rangeOfSlotsEnd = rangeOfSlotsEnd +1\n",
    "    levelsDict[level] = list(range(rangeOfSlotsStart,rangeOfSlotsEnd))"
   ]
  },
  {
   "cell_type": "code",
   "execution_count": 3,
   "id": "66d5de87",
   "metadata": {},
   "outputs": [
    {
     "name": "stdout",
     "output_type": "stream",
     "text": [
      "Numeber of levels in parking lot:2\n"
     ]
    }
   ],
   "source": [
    "numberOfLevels = int(input(\"Numeber of levels in parking lot:\"))"
   ]
  },
  {
   "cell_type": "code",
   "execution_count": 4,
   "id": "d20c47cc",
   "metadata": {},
   "outputs": [
    {
     "name": "stdout",
     "output_type": "stream",
     "text": [
      "Please enter level name:A\n",
      "Please enter level name:B\n"
     ]
    }
   ],
   "source": [
    "levels = []\n",
    "for i in range(numberOfLevels):\n",
    "    levels.append(str(input(\"Please enter level name:\")))\n",
    "\n",
    "    \n",
    "if len(levels)!=len(set(levels)):\n",
    "    print (\"Level name should be unique\")\n",
    "    "
   ]
  },
  {
   "cell_type": "code",
   "execution_count": 5,
   "id": "8c313b18",
   "metadata": {},
   "outputs": [
    {
     "name": "stdout",
     "output_type": "stream",
     "text": [
      "Please enter start of level A:1\n",
      "Please enter end of level A:20\n",
      "Please enter start of level B:21\n",
      "Please enter end of level B:40\n"
     ]
    }
   ],
   "source": [
    "for j in range(len(levels)):\n",
    "    \n",
    "    start = int(input(\"Please enter start of level \" + levels[j] + \":\"))\n",
    "    end = int(input(\"Please enter end of level \" + levels[j] + \":\"))\n",
    "    assingSlots(levels[j], start, end)"
   ]
  },
  {
   "cell_type": "code",
   "execution_count": 6,
   "id": "af4986fc",
   "metadata": {},
   "outputs": [
    {
     "name": "stdout",
     "output_type": "stream",
     "text": [
      "Do you want to park a vehicle (Y/N):Y\n",
      "Please enter vehicle number:MH16BP8001\n"
     ]
    }
   ],
   "source": [
    "park = input(\"Do you want to park a vehicle (Y/N):\")\n",
    "carNumber = str(input(\"Please enter vehicle number:\"))"
   ]
  },
  {
   "cell_type": "code",
   "execution_count": 7,
   "id": "ea0077e8",
   "metadata": {},
   "outputs": [
    {
     "data": {
      "text/plain": [
       "{'level': 'A', 'slot': 1}"
      ]
     },
     "execution_count": 7,
     "metadata": {},
     "output_type": "execute_result"
    }
   ],
   "source": [
    "parkingLotTracker(levelsDict, carNumber,park)"
   ]
  },
  {
   "cell_type": "code",
   "execution_count": null,
   "id": "312e60dd",
   "metadata": {},
   "outputs": [],
   "source": []
  }
 ],
 "metadata": {
  "kernelspec": {
   "display_name": "Python 3 (ipykernel)",
   "language": "python",
   "name": "python3"
  },
  "language_info": {
   "codemirror_mode": {
    "name": "ipython",
    "version": 3
   },
   "file_extension": ".py",
   "mimetype": "text/x-python",
   "name": "python",
   "nbconvert_exporter": "python",
   "pygments_lexer": "ipython3",
   "version": "3.7.9"
  }
 },
 "nbformat": 4,
 "nbformat_minor": 5
}
